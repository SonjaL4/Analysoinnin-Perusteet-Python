{
 "cells": [
  {
   "cell_type": "code",
   "execution_count": 9,
   "metadata": {},
   "outputs": [
    {
     "name": "stdout",
     "output_type": "stream",
     "text": [
      "['table', 'chair']\n",
      "item not found\n"
     ]
    }
   ],
   "source": [
    "#1\n",
    "mylist=[\"table\",\"chair\",\"shelf\",]\n",
    "\n",
    "print(mylist[0:2])\n",
    "\n",
    "if \"sofa\" in mylist:\n",
    "   print(\"sofa\")\n",
    "else:\n",
    "  print(\"item not found\") \n"
   ]
  },
  {
   "cell_type": "code",
   "execution_count": 21,
   "metadata": {},
   "outputs": [
    {
     "ename": "TypeError",
     "evalue": "'int' object is not subscriptable",
     "output_type": "error",
     "traceback": [
      "\u001b[1;31m---------------------------------------------------------------------------\u001b[0m",
      "\u001b[1;31mTypeError\u001b[0m                                 Traceback (most recent call last)",
      "\u001b[1;32mc:\\Analysoinnin Perusteet Python\\listHarjoitus.ipynb Cell 2\u001b[0m line \u001b[0;36m4\n\u001b[0;32m      <a href='vscode-notebook-cell:/c%3A/Analysoinnin%20Perusteet%20Python/listHarjoitus.ipynb#W1sZmlsZQ%3D%3D?line=0'>1</a>\u001b[0m \u001b[39m#2\u001b[39;00m\n\u001b[0;32m      <a href='vscode-notebook-cell:/c%3A/Analysoinnin%20Perusteet%20Python/listHarjoitus.ipynb#W1sZmlsZQ%3D%3D?line=1'>2</a>\u001b[0m \u001b[39mimport\u001b[39;00m \u001b[39mrandom\u001b[39;00m\n\u001b[1;32m----> <a href='vscode-notebook-cell:/c%3A/Analysoinnin%20Perusteet%20Python/listHarjoitus.ipynb#W1sZmlsZQ%3D%3D?line=3'>4</a>\u001b[0m thrownDiceNumbers[\u001b[39m1\u001b[39;49m,\u001b[39m2\u001b[39;49m,\u001b[39m3\u001b[39;49m,\u001b[39m4\u001b[39;49m,\u001b[39m5\u001b[39;49m,\u001b[39m6\u001b[39;49m,\u001b[39m7\u001b[39;49m,\u001b[39m8\u001b[39;49m,\u001b[39m9\u001b[39;49m,\u001b[39m10\u001b[39;49m]\n\u001b[0;32m      <a href='vscode-notebook-cell:/c%3A/Analysoinnin%20Perusteet%20Python/listHarjoitus.ipynb#W1sZmlsZQ%3D%3D?line=4'>5</a>\u001b[0m \u001b[39mfor\u001b[39;00m i \u001b[39min\u001b[39;00m \u001b[39mrange\u001b[39m(\u001b[39m0\u001b[39m,\u001b[39m5\u001b[39m):\n\u001b[0;32m      <a href='vscode-notebook-cell:/c%3A/Analysoinnin%20Perusteet%20Python/listHarjoitus.ipynb#W1sZmlsZQ%3D%3D?line=5'>6</a>\u001b[0m    \u001b[39mprint\u001b[39m(random\u001b[39m.\u001b[39mrandint(thrownDiceNumbers))\n",
      "\u001b[1;31mTypeError\u001b[0m: 'int' object is not subscriptable"
     ]
    }
   ],
   "source": [
    "#2\n",
    "import random\n",
    "\n",
    "thrownDiceNumbers[1,10]\n",
    "for i in range(0,5):\n",
    "   print(random.randint(thrownDiceNumbers))\n",
    "\n",
    "\n",
    "\n",
    "\n",
    "\n"
   ]
  }
 ],
 "metadata": {
  "kernelspec": {
   "display_name": "Python 3",
   "language": "python",
   "name": "python3"
  },
  "language_info": {
   "codemirror_mode": {
    "name": "ipython",
    "version": 3
   },
   "file_extension": ".py",
   "mimetype": "text/x-python",
   "name": "python",
   "nbconvert_exporter": "python",
   "pygments_lexer": "ipython3",
   "version": "3.12.0"
  }
 },
 "nbformat": 4,
 "nbformat_minor": 2
}
