{
 "cells": [
  {
   "cell_type": "code",
   "execution_count": 1,
   "metadata": {},
   "outputs": [
    {
     "name": "stdout",
     "output_type": "stream",
     "text": [
      "yaas\n",
      "It's raining\n",
      "It's raining\n",
      "7\n"
     ]
    }
   ],
   "source": [
    "#Kommentit\n",
    "'''Pidemmät kommenitit\n",
    "'''\n",
    "\n",
    "\n",
    "print(\"yaas\")\n",
    "print('It\\'s raining')\n",
    "print('''It's raining''')\n",
    "\n",
    "print(3+4)\n",
    "\n",
    "x=4\n",
    "type(x)\n",
    "\n",
    "\n",
    "import keyword\n",
    "print (keyword.kwlist)\n",
    "print(\"testing\")\n",
    "\n",
    "\n",
    "#if lause\n",
    "\n"
   ]
  },
  {
   "cell_type": "code",
   "execution_count": 1,
   "metadata": {},
   "outputs": [
    {
     "data": {
      "text/plain": [
       "'c:\\\\Analysoinnin Perusteet Python'"
      ]
     },
     "execution_count": 1,
     "metadata": {},
     "output_type": "execute_result"
    }
   ],
   "source": [
    "import pandas as pd\n",
    "\n",
    "#%pwd #tarkastetaan mikä on datan sijainti\n",
    "\n",
    "\n"
   ]
  },
  {
   "cell_type": "code",
   "execution_count": 4,
   "metadata": {},
   "outputs": [
    {
     "name": "stdout",
     "output_type": "stream",
     "text": [
      "Second printing\n"
     ]
    }
   ],
   "source": [
    "grade = int (input(\"What is your grade for IoT? \"))\n",
    "if grade >= 1:\n",
    "    print(\"You have successfully passed the course.\")\n",
    "print(\"Second printing\")"
   ]
  }
 ],
 "metadata": {
  "kernelspec": {
   "display_name": "Python 3",
   "language": "python",
   "name": "python3"
  },
  "language_info": {
   "codemirror_mode": {
    "name": "ipython",
    "version": 3
   },
   "file_extension": ".py",
   "mimetype": "text/x-python",
   "name": "python",
   "nbconvert_exporter": "python",
   "pygments_lexer": "ipython3",
   "version": "3.12.0"
  }
 },
 "nbformat": 4,
 "nbformat_minor": 2
}
