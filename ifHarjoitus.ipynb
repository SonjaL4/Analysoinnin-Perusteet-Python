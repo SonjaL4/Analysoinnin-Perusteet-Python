{
 "cells": [
  {
   "cell_type": "code",
   "execution_count": 7,
   "metadata": {},
   "outputs": [
    {
     "name": "stdout",
     "output_type": "stream",
     "text": [
      "number1 is equal to number2\n",
      "number1 is not greater than number2\n",
      "number1 is greater or equal to number2\n",
      "number1 and number2 are equal\n"
     ]
    }
   ],
   "source": [
    "#1\n",
    "number1=3\n",
    "number2=3\n",
    "\n",
    "#a\n",
    "if number1==number2:\n",
    "    print(\"number1 is equal to number2\")\n",
    "else:\n",
    "    print(\"number1 and number2 are not equal\")   \n",
    "\n",
    "#b\n",
    "if number1>number2:\n",
    "    print(\"number1 is greater than number2\") \n",
    "else:\n",
    "    print(\"number1 is not greater than number2\")        \n",
    "\n",
    "#c\n",
    "if number1>=number2:\n",
    "    print(\"number1 is greater or equal to number2\")\n",
    "else:\n",
    "    print(\"number1 is not greater or equal to number2\")\n",
    "\n",
    "#d  \n",
    "if number1 != number2:\n",
    "    print(\"number1 and number2 are not equal\")\n",
    "else:\n",
    "    print(\"number1 and number2 are equal\")   "
   ]
  },
  {
   "cell_type": "code",
   "execution_count": 16,
   "metadata": {},
   "outputs": [
    {
     "name": "stdout",
     "output_type": "stream",
     "text": [
      "Numbers  3 , 3 and 3  are equal.\n",
      "Numbers  3  and  3  or numbers  3 and 3 are equal. \n",
      "Numbers  3 and 3 and also 3 and 3  are not equal.\n",
      "Number 3 is not greater than  3 also number  3 is  not greater than  3 .\n",
      "Numbers 3 and 3 are equal.\n"
     ]
    }
   ],
   "source": [
    "#2\n",
    "number1=3\n",
    "number2=3\n",
    "number3=3\n",
    "\n",
    "#a\n",
    "if number1==number2 & number2==number3 & number1==number3:\n",
    "    print(\"Numbers \", number1,\",\" ,number2,\"and\" ,number3,\" are equal.\")\n",
    "else:\n",
    "     print(\"Numbers \", number1, number2, number3,\" are not equal.\")\n",
    "\n",
    "#b\n",
    "if number1==number2 | number2==number3:\n",
    "     print(\"Numbers \",number1, \" and \",number2, \" or \"+\"numbers \",number2,\"and\",number3,\"are equal. \" )\n",
    "else:\n",
    "     print(\"Numbers \",number1, \" and \",number2, \" or \"+\"numbers \",number2,\"and\",number3,\"are not equal. \" )\n",
    "\n",
    "#c\n",
    "if number1>number2 & number1>number3:\n",
    "     print(\"Numbers \",number1,\"is equal to\",number2,\"and\",number1, \"is equal to\",number2,\".\")\n",
    "else:\n",
    "     print(\"Numbers \",number1,\"and\",number2,\"and also\",number1, \"and\",number2,\" are not equal.\")\n",
    "    \n",
    "#d  \n",
    "if number1 >number2:\n",
    "     print(\"Number \",number1, \"is greater than \",number2)\n",
    "elif number2>number3:\n",
    "     print(\"Number \",number2,\"is greater than \",number3)\n",
    "else:\n",
    "    print(\"Number\", number1,\"is not greater than \",number2, \"also number \",number2,\"is  not greater than \",number3,\".\")\n",
    "\n",
    "#e\n",
    "if number1==number2:\n",
    "     print(\"Numbers\",number1,\"and\",number2,\"are equal.\")\n",
    "elif number1==number3:\n",
    "     print(\"Numbers\",number1,\"and\",number3,\"are equal.\")\n",
    "else:\n",
    "     print(\"Numbers \",number1,\"and\",number2,\"and also\",number1, \"and\",number3,\" are not equal.\")\n",
    "\n"
   ]
  },
  {
   "cell_type": "code",
   "execution_count": 23,
   "metadata": {},
   "outputs": [
    {
     "name": "stdout",
     "output_type": "stream",
     "text": [
      "The names Matti and Teppo are not the same.\n",
      "Names Matti and Teppo are not equal.\n",
      "Names Matti and Teppo and also Matti and Seppo are not equal\n"
     ]
    }
   ],
   "source": [
    "#3\n",
    "name1=\"Matti\"\n",
    "name2=\"Teppo\"\n",
    "name3=\"Seppo\"\n",
    "\n",
    "#a\n",
    "if name1 ==name2:\n",
    "    print(\"Names \"+name1+\" and \"+name2+\" share name\")\n",
    "else:\n",
    "    print(\"The names \"+name1+\" and \"+name2+\" are not the same.\")\n",
    "\n",
    "#b\n",
    "if name1!=name2:\n",
    "    print(\"Names \"+name1+\" and \"+name2+\" are not equal.\")\n",
    "else:\n",
    "    print(\"Names \"+name1+\" and \"+name2+\" are equal.\")\n",
    "\n",
    "#c\n",
    "if name1 ==name2:\n",
    "    print(\"Names \"+name1+\" and \"+name2+\" are equal\")\n",
    "elif name1 ==name3:\n",
    "    print(\"Names \"+name1+\" and \"+name3+\" are equal\")\n",
    "else:\n",
    "    print(\"Names \"+name1+\" and \"+name2+\" and also \"+name1+\" and \" +name3+\" are not equal\")\n",
    "    "
   ]
  }
 ],
 "metadata": {
  "kernelspec": {
   "display_name": "Python 3",
   "language": "python",
   "name": "python3"
  },
  "language_info": {
   "codemirror_mode": {
    "name": "ipython",
    "version": 3
   },
   "file_extension": ".py",
   "mimetype": "text/x-python",
   "name": "python",
   "nbconvert_exporter": "python",
   "pygments_lexer": "ipython3",
   "version": "3.12.0"
  }
 },
 "nbformat": 4,
 "nbformat_minor": 2
}
