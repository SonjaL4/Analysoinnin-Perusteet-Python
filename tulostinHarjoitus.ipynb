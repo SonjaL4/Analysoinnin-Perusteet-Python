{
 "cells": [
  {
   "cell_type": "code",
   "execution_count": 21,
   "metadata": {},
   "outputs": [
    {
     "name": "stdout",
     "output_type": "stream",
     "text": [
      "Printer app\n",
      "This app is made by: Sonja\n",
      "The value of the number1 is  40\n",
      "The value of the number2 is  10\n",
      "40 + 10 = 50\n",
      "40  *  10  =  400\n",
      "40 / 10 = 4.0\n",
      "40 - 10 = 30\n"
     ]
    }
   ],
   "source": [
    "creator =\"Sonja\"\n",
    "number1=40\n",
    "number2=10\n",
    "\n",
    "addition=number1+number2\n",
    "multiplication = number1*number2\n",
    "division = number1/number2\n",
    "substraction = number1-number2\n",
    "\n",
    "print(\"Printer app\")\n",
    "print(\"This app is made by: \"+creator)\n",
    "\n",
    "#print(number1)\n",
    "\n",
    "print(\"The value of the number1 is \",number1)\n",
    "print(\"The value of the number2 is \",number2)\n",
    "\n",
    "print(number1,\"+\",number2,\"=\",addition)\n",
    "\n",
    "print(number1,\" * \",number2,\" = \",multiplication)\n",
    "\n",
    "print(number1,\"/\",number2,\"=\",division)\n",
    "\n",
    "print(number1,\"-\",number2,\"=\",substraction)\n"
   ]
  }
 ],
 "metadata": {
  "kernelspec": {
   "display_name": "Python 3",
   "language": "python",
   "name": "python3"
  },
  "language_info": {
   "codemirror_mode": {
    "name": "ipython",
    "version": 3
   },
   "file_extension": ".py",
   "mimetype": "text/x-python",
   "name": "python",
   "nbconvert_exporter": "python",
   "pygments_lexer": "ipython3",
   "version": "3.12.0"
  }
 },
 "nbformat": 4,
 "nbformat_minor": 2
}
