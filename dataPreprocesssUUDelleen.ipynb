{
 "cells": [
  {
   "cell_type": "code",
   "execution_count": 1,
   "metadata": {},
   "outputs": [],
   "source": [
    "import pandas as pd\n",
    "import numpy as np"
   ]
  },
  {
   "cell_type": "code",
   "execution_count": 2,
   "metadata": {},
   "outputs": [],
   "source": [
    "data = pd.read_csv(\"https://raw.githubusercontent.com/dipaish/data_analysis/main/covid_finland_cleaning.csv\")"
   ]
  },
  {
   "cell_type": "code",
   "execution_count": 3,
   "metadata": {},
   "outputs": [
    {
     "data": {
      "text/html": [
       "<div>\n",
       "<style scoped>\n",
       "    .dataframe tbody tr th:only-of-type {\n",
       "        vertical-align: middle;\n",
       "    }\n",
       "\n",
       "    .dataframe tbody tr th {\n",
       "        vertical-align: top;\n",
       "    }\n",
       "\n",
       "    .dataframe thead th {\n",
       "        text-align: right;\n",
       "    }\n",
       "</style>\n",
       "<table border=\"1\" class=\"dataframe\">\n",
       "  <thead>\n",
       "    <tr style=\"text-align: right;\">\n",
       "      <th></th>\n",
       "      <th>dateRep</th>\n",
       "      <th>day</th>\n",
       "      <th>month</th>\n",
       "      <th>year</th>\n",
       "      <th>cases</th>\n",
       "      <th>deaths</th>\n",
       "      <th>countriesAndTerritories</th>\n",
       "      <th>geoId</th>\n",
       "      <th>countryterritoryCode</th>\n",
       "      <th>popData2019</th>\n",
       "      <th>continentExp</th>\n",
       "      <th>Cumulative_number_for_14_days_of_COVID-19_cases_per_100000</th>\n",
       "    </tr>\n",
       "  </thead>\n",
       "  <tbody>\n",
       "    <tr>\n",
       "      <th>0</th>\n",
       "      <td>7/11/2020</td>\n",
       "      <td>11</td>\n",
       "      <td>7</td>\n",
       "      <td>2020</td>\n",
       "      <td>6.0</td>\n",
       "      <td>0</td>\n",
       "      <td>Finland</td>\n",
       "      <td>FI</td>\n",
       "      <td>FIN</td>\n",
       "      <td>5517919</td>\n",
       "      <td>Europe</td>\n",
       "      <td>1.594804</td>\n",
       "    </tr>\n",
       "    <tr>\n",
       "      <th>1</th>\n",
       "      <td>7/10/2020</td>\n",
       "      <td>10</td>\n",
       "      <td>7</td>\n",
       "      <td>2020</td>\n",
       "      <td>8.0</td>\n",
       "      <td>0</td>\n",
       "      <td>Finland</td>\n",
       "      <td>FI</td>\n",
       "      <td>FIN</td>\n",
       "      <td>5517919</td>\n",
       "      <td>Europe</td>\n",
       "      <td>1.830400</td>\n",
       "    </tr>\n",
       "    <tr>\n",
       "      <th>2</th>\n",
       "      <td>7/9/2020</td>\n",
       "      <td>9</td>\n",
       "      <td>7</td>\n",
       "      <td>2020</td>\n",
       "      <td>3.0</td>\n",
       "      <td>0</td>\n",
       "      <td>Finland</td>\n",
       "      <td>FI</td>\n",
       "      <td>FIN</td>\n",
       "      <td>5517919</td>\n",
       "      <td>Europe</td>\n",
       "      <td>1.776032</td>\n",
       "    </tr>\n",
       "    <tr>\n",
       "      <th>3</th>\n",
       "      <td>7/8/2020</td>\n",
       "      <td>8</td>\n",
       "      <td>7</td>\n",
       "      <td>2020</td>\n",
       "      <td>5.0</td>\n",
       "      <td>0</td>\n",
       "      <td>Finland</td>\n",
       "      <td>FI</td>\n",
       "      <td>FIN</td>\n",
       "      <td>5517919</td>\n",
       "      <td>Europe</td>\n",
       "      <td>1.939137</td>\n",
       "    </tr>\n",
       "    <tr>\n",
       "      <th>4</th>\n",
       "      <td>7/7/2020</td>\n",
       "      <td>7</td>\n",
       "      <td>7</td>\n",
       "      <td>2020</td>\n",
       "      <td>4.0</td>\n",
       "      <td>0</td>\n",
       "      <td>Finland</td>\n",
       "      <td>FI</td>\n",
       "      <td>FIN</td>\n",
       "      <td>5517919</td>\n",
       "      <td>Europe</td>\n",
       "      <td>2.047873</td>\n",
       "    </tr>\n",
       "  </tbody>\n",
       "</table>\n",
       "</div>"
      ],
      "text/plain": [
       "     dateRep  day  month  year  cases  deaths countriesAndTerritories geoId  \\\n",
       "0  7/11/2020   11      7  2020    6.0       0                 Finland    FI   \n",
       "1  7/10/2020   10      7  2020    8.0       0                 Finland    FI   \n",
       "2   7/9/2020    9      7  2020    3.0       0                 Finland    FI   \n",
       "3   7/8/2020    8      7  2020    5.0       0                 Finland    FI   \n",
       "4   7/7/2020    7      7  2020    4.0       0                 Finland    FI   \n",
       "\n",
       "  countryterritoryCode  popData2019 continentExp  \\\n",
       "0                  FIN      5517919       Europe   \n",
       "1                  FIN      5517919       Europe   \n",
       "2                  FIN      5517919       Europe   \n",
       "3                  FIN      5517919       Europe   \n",
       "4                  FIN      5517919       Europe   \n",
       "\n",
       "   Cumulative_number_for_14_days_of_COVID-19_cases_per_100000  \n",
       "0                                           1.594804           \n",
       "1                                           1.830400           \n",
       "2                                           1.776032           \n",
       "3                                           1.939137           \n",
       "4                                           2.047873           "
      ]
     },
     "execution_count": 3,
     "metadata": {},
     "output_type": "execute_result"
    }
   ],
   "source": [
    "data.head()"
   ]
  },
  {
   "cell_type": "code",
   "execution_count": 4,
   "metadata": {},
   "outputs": [
    {
     "data": {
      "text/plain": [
       "Index(['dateRep', 'day', 'month', 'year', 'cases', 'deaths',\n",
       "       'countriesAndTerritories', 'geoId', 'countryterritoryCode',\n",
       "       'popData2019', 'continentExp',\n",
       "       'Cumulative_number_for_14_days_of_COVID-19_cases_per_100000'],\n",
       "      dtype='object')"
      ]
     },
     "execution_count": 4,
     "metadata": {},
     "output_type": "execute_result"
    }
   ],
   "source": [
    "data.columns"
   ]
  },
  {
   "cell_type": "code",
   "execution_count": 5,
   "metadata": {},
   "outputs": [
    {
     "data": {
      "text/plain": [
       "RangeIndex(start=0, stop=160, step=1)"
      ]
     },
     "execution_count": 5,
     "metadata": {},
     "output_type": "execute_result"
    }
   ],
   "source": [
    "data.index"
   ]
  },
  {
   "cell_type": "code",
   "execution_count": 6,
   "metadata": {},
   "outputs": [
    {
     "data": {
      "text/plain": [
       "<bound method DataFrame.info of        dateRep  day  month  year  cases  deaths countriesAndTerritories geoId  \\\n",
       "0    7/11/2020   11      7  2020    6.0       0                 Finland    FI   \n",
       "1    7/10/2020   10      7  2020    8.0       0                 Finland    FI   \n",
       "2     7/9/2020    9      7  2020    3.0       0                 Finland    FI   \n",
       "3     7/8/2020    8      7  2020    5.0       0                 Finland    FI   \n",
       "4     7/7/2020    7      7  2020    4.0       0                 Finland    FI   \n",
       "..         ...  ...    ...   ...    ...     ...                     ...   ...   \n",
       "155   2/3/2020    3      2  2020    0.0       0                 Finland    FI   \n",
       "156   2/2/2020    2      2  2020    0.0       0                 Finland    FI   \n",
       "157   2/1/2020    1      2  2020    0.0       0                 Finland    FI   \n",
       "158  1/31/2020   31      1  2020    0.0       0                 Finland    FI   \n",
       "159  1/30/2020   30      1  2020    1.0       0                 Finland    FI   \n",
       "\n",
       "    countryterritoryCode  popData2019 continentExp  \\\n",
       "0                    FIN      5517919       Europe   \n",
       "1                    FIN      5517919       Europe   \n",
       "2                    FIN      5517919       Europe   \n",
       "3                    FIN      5517919       Europe   \n",
       "4                    FIN      5517919       Europe   \n",
       "..                   ...          ...          ...   \n",
       "155                  FIN      5517919       Europe   \n",
       "156                  FIN      5517919       Europe   \n",
       "157                  FIN      5517919       Europe   \n",
       "158                  FIN      5517919       Europe   \n",
       "159                  FIN      5517919       Europe   \n",
       "\n",
       "     Cumulative_number_for_14_days_of_COVID-19_cases_per_100000  \n",
       "0                                             1.594804           \n",
       "1                                             1.830400           \n",
       "2                                             1.776032           \n",
       "3                                             1.939137           \n",
       "4                                             2.047873           \n",
       "..                                                 ...           \n",
       "155                                           0.018123           \n",
       "156                                           0.018123           \n",
       "157                                           0.018123           \n",
       "158                                           0.018123           \n",
       "159                                           0.018123           \n",
       "\n",
       "[160 rows x 12 columns]>"
      ]
     },
     "execution_count": 6,
     "metadata": {},
     "output_type": "execute_result"
    }
   ],
   "source": [
    "data.info"
   ]
  },
  {
   "cell_type": "code",
   "execution_count": 7,
   "metadata": {},
   "outputs": [
    {
     "name": "stdout",
     "output_type": "stream",
     "text": [
      "dateRep                                                       0\n",
      "day                                                           0\n",
      "month                                                         0\n",
      "year                                                          0\n",
      "cases                                                         7\n",
      "deaths                                                        0\n",
      "countriesAndTerritories                                       0\n",
      "geoId                                                         0\n",
      "countryterritoryCode                                          0\n",
      "popData2019                                                   0\n",
      "continentExp                                                  0\n",
      "Cumulative_number_for_14_days_of_COVID-19_cases_per_100000    0\n",
      "dtype: int64\n"
     ]
    }
   ],
   "source": [
    "missing_count = data.isnull().sum()\n",
    "print(missing_count)"
   ]
  },
  {
   "cell_type": "code",
   "execution_count": 8,
   "metadata": {},
   "outputs": [
    {
     "name": "stdout",
     "output_type": "stream",
     "text": [
      "0.3645833333333333\n"
     ]
    }
   ],
   "source": [
    "total_data=np.product(data.shape)\n",
    "total_missing=missing_count.sum()\n",
    "per_of_missing_data=(total_missing/total_data)* 100\n",
    "print(per_of_missing_data)"
   ]
  },
  {
   "cell_type": "code",
   "execution_count": 9,
   "metadata": {},
   "outputs": [
    {
     "data": {
      "text/plain": [
       "(160, 12)"
      ]
     },
     "execution_count": 9,
     "metadata": {},
     "output_type": "execute_result"
    }
   ],
   "source": [
    "data.shape"
   ]
  },
  {
   "cell_type": "code",
   "execution_count": 10,
   "metadata": {},
   "outputs": [
    {
     "name": "stdout",
     "output_type": "stream",
     "text": [
      "       dateRep  day  month  year  cases  deaths countriesAndTerritories geoId  \\\n",
      "0    7/11/2020   11      7  2020    6.0       0                 Finland    FI   \n",
      "1    7/10/2020   10      7  2020    8.0       0                 Finland    FI   \n",
      "2     7/9/2020    9      7  2020    3.0       0                 Finland    FI   \n",
      "3     7/8/2020    8      7  2020    5.0       0                 Finland    FI   \n",
      "4     7/7/2020    7      7  2020    4.0       0                 Finland    FI   \n",
      "..         ...  ...    ...   ...    ...     ...                     ...   ...   \n",
      "155   2/3/2020    3      2  2020    0.0       0                 Finland    FI   \n",
      "156   2/2/2020    2      2  2020    0.0       0                 Finland    FI   \n",
      "157   2/1/2020    1      2  2020    0.0       0                 Finland    FI   \n",
      "158  1/31/2020   31      1  2020    0.0       0                 Finland    FI   \n",
      "159  1/30/2020   30      1  2020    1.0       0                 Finland    FI   \n",
      "\n",
      "    countryterritoryCode  popData2019 continentExp  \\\n",
      "0                    FIN      5517919       Europe   \n",
      "1                    FIN      5517919       Europe   \n",
      "2                    FIN      5517919       Europe   \n",
      "3                    FIN      5517919       Europe   \n",
      "4                    FIN      5517919       Europe   \n",
      "..                   ...          ...          ...   \n",
      "155                  FIN      5517919       Europe   \n",
      "156                  FIN      5517919       Europe   \n",
      "157                  FIN      5517919       Europe   \n",
      "158                  FIN      5517919       Europe   \n",
      "159                  FIN      5517919       Europe   \n",
      "\n",
      "     Cumulative_number_for_14_days_of_COVID-19_cases_per_100000  \n",
      "0                                             1.594804           \n",
      "1                                             1.830400           \n",
      "2                                             1.776032           \n",
      "3                                             1.939137           \n",
      "4                                             2.047873           \n",
      "..                                                 ...           \n",
      "155                                           0.018123           \n",
      "156                                           0.018123           \n",
      "157                                           0.018123           \n",
      "158                                           0.018123           \n",
      "159                                           0.018123           \n",
      "\n",
      "[153 rows x 12 columns]\n"
     ]
    }
   ],
   "source": [
    "data1=data.dropna(axis=0, how='any') # axis=0 means rows are taken into account and how='any': a row is dropped if it contains at least one NaN value.\n",
    "print(data1)"
   ]
  },
  {
   "cell_type": "code",
   "execution_count": null,
   "metadata": {},
   "outputs": [],
   "source": []
  }
 ],
 "metadata": {
  "kernelspec": {
   "display_name": "Python 3",
   "language": "python",
   "name": "python3"
  },
  "language_info": {
   "codemirror_mode": {
    "name": "ipython",
    "version": 3
   },
   "file_extension": ".py",
   "mimetype": "text/x-python",
   "name": "python",
   "nbconvert_exporter": "python",
   "pygments_lexer": "ipython3",
   "version": "3.12.0"
  }
 },
 "nbformat": 4,
 "nbformat_minor": 2
}
